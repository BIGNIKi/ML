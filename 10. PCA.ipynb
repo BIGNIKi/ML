{
 "cells": [
  {
   "cell_type": "markdown",
   "id": "0b3cbdd2",
   "metadata": {},
   "source": [
    "# Метод главных компонент (PCA)"
   ]
  },
  {
   "cell_type": "markdown",
   "id": "a50c1199",
   "metadata": {},
   "source": [
    "Метод главных компонент (PCA, Principal Component Analysis) — это техника снижения размерности, которая используется для преобразования данных с высокой размерностью в данные с меньшим числом измерений при сохранении как можно большего количества информации. PCA находит новые переменные, называемые главными компонентами, которые представляют собой линейные комбинации исходных переменных. Эти компоненты упорядочены по убыванию дисперсии данных, которую они объясняют."
   ]
  },
  {
   "cell_type": "markdown",
   "id": "2567eed1",
   "metadata": {},
   "source": [
    "## Блок с используемыми библиотеками"
   ]
  },
  {
   "cell_type": "code",
   "execution_count": 1,
   "id": "f9eb8e15",
   "metadata": {},
   "outputs": [],
   "source": [
    "import matplotlib.pyplot as plt\n",
    "import pandas as pd\n",
    "import seaborn as sns\n",
    "from sklearn.model_selection import train_test_split\n",
    "import numpy as np\n",
    "from sklearn import datasets\n",
    "\n",
    "from sklearn.decomposition import PCA\n",
    "from sklearn.ensemble import RandomForestClassifier\n",
    "from sklearn.metrics import accuracy_score, precision_score, recall_score, f1_score, roc_auc_score"
   ]
  },
  {
   "cell_type": "markdown",
   "id": "e886a62f",
   "metadata": {},
   "source": [
    "## Блок с описанием и демонстрацией (частичной распечаткой) используемого датасета"
   ]
  },
  {
   "cell_type": "code",
   "execution_count": 2,
   "id": "9887c86e",
   "metadata": {},
   "outputs": [
    {
     "data": {
      "text/html": [
       "<div>\n",
       "<style scoped>\n",
       "    .dataframe tbody tr th:only-of-type {\n",
       "        vertical-align: middle;\n",
       "    }\n",
       "\n",
       "    .dataframe tbody tr th {\n",
       "        vertical-align: top;\n",
       "    }\n",
       "\n",
       "    .dataframe thead th {\n",
       "        text-align: right;\n",
       "    }\n",
       "</style>\n",
       "<table border=\"1\" class=\"dataframe\">\n",
       "  <thead>\n",
       "    <tr style=\"text-align: right;\">\n",
       "      <th></th>\n",
       "      <th>Id</th>\n",
       "      <th>SepalLengthCm</th>\n",
       "      <th>SepalWidthCm</th>\n",
       "      <th>PetalLengthCm</th>\n",
       "      <th>PetalWidthCm</th>\n",
       "      <th>Species</th>\n",
       "    </tr>\n",
       "  </thead>\n",
       "  <tbody>\n",
       "    <tr>\n",
       "      <th>0</th>\n",
       "      <td>1</td>\n",
       "      <td>5.1</td>\n",
       "      <td>3.5</td>\n",
       "      <td>1.4</td>\n",
       "      <td>0.2</td>\n",
       "      <td>Iris-setosa</td>\n",
       "    </tr>\n",
       "    <tr>\n",
       "      <th>1</th>\n",
       "      <td>2</td>\n",
       "      <td>4.9</td>\n",
       "      <td>3.0</td>\n",
       "      <td>1.4</td>\n",
       "      <td>0.2</td>\n",
       "      <td>Iris-setosa</td>\n",
       "    </tr>\n",
       "    <tr>\n",
       "      <th>2</th>\n",
       "      <td>3</td>\n",
       "      <td>4.7</td>\n",
       "      <td>3.2</td>\n",
       "      <td>1.3</td>\n",
       "      <td>0.2</td>\n",
       "      <td>Iris-setosa</td>\n",
       "    </tr>\n",
       "    <tr>\n",
       "      <th>3</th>\n",
       "      <td>4</td>\n",
       "      <td>4.6</td>\n",
       "      <td>3.1</td>\n",
       "      <td>1.5</td>\n",
       "      <td>0.2</td>\n",
       "      <td>Iris-setosa</td>\n",
       "    </tr>\n",
       "    <tr>\n",
       "      <th>4</th>\n",
       "      <td>5</td>\n",
       "      <td>5.0</td>\n",
       "      <td>3.6</td>\n",
       "      <td>1.4</td>\n",
       "      <td>0.2</td>\n",
       "      <td>Iris-setosa</td>\n",
       "    </tr>\n",
       "    <tr>\n",
       "      <th>...</th>\n",
       "      <td>...</td>\n",
       "      <td>...</td>\n",
       "      <td>...</td>\n",
       "      <td>...</td>\n",
       "      <td>...</td>\n",
       "      <td>...</td>\n",
       "    </tr>\n",
       "    <tr>\n",
       "      <th>145</th>\n",
       "      <td>146</td>\n",
       "      <td>6.7</td>\n",
       "      <td>3.0</td>\n",
       "      <td>5.2</td>\n",
       "      <td>2.3</td>\n",
       "      <td>Iris-virginica</td>\n",
       "    </tr>\n",
       "    <tr>\n",
       "      <th>146</th>\n",
       "      <td>147</td>\n",
       "      <td>6.3</td>\n",
       "      <td>2.5</td>\n",
       "      <td>5.0</td>\n",
       "      <td>1.9</td>\n",
       "      <td>Iris-virginica</td>\n",
       "    </tr>\n",
       "    <tr>\n",
       "      <th>147</th>\n",
       "      <td>148</td>\n",
       "      <td>6.5</td>\n",
       "      <td>3.0</td>\n",
       "      <td>5.2</td>\n",
       "      <td>2.0</td>\n",
       "      <td>Iris-virginica</td>\n",
       "    </tr>\n",
       "    <tr>\n",
       "      <th>148</th>\n",
       "      <td>149</td>\n",
       "      <td>6.2</td>\n",
       "      <td>3.4</td>\n",
       "      <td>5.4</td>\n",
       "      <td>2.3</td>\n",
       "      <td>Iris-virginica</td>\n",
       "    </tr>\n",
       "    <tr>\n",
       "      <th>149</th>\n",
       "      <td>150</td>\n",
       "      <td>5.9</td>\n",
       "      <td>3.0</td>\n",
       "      <td>5.1</td>\n",
       "      <td>1.8</td>\n",
       "      <td>Iris-virginica</td>\n",
       "    </tr>\n",
       "  </tbody>\n",
       "</table>\n",
       "<p>150 rows × 6 columns</p>\n",
       "</div>"
      ],
      "text/plain": [
       "      Id  SepalLengthCm  SepalWidthCm  PetalLengthCm  PetalWidthCm  \\\n",
       "0      1            5.1           3.5            1.4           0.2   \n",
       "1      2            4.9           3.0            1.4           0.2   \n",
       "2      3            4.7           3.2            1.3           0.2   \n",
       "3      4            4.6           3.1            1.5           0.2   \n",
       "4      5            5.0           3.6            1.4           0.2   \n",
       "..   ...            ...           ...            ...           ...   \n",
       "145  146            6.7           3.0            5.2           2.3   \n",
       "146  147            6.3           2.5            5.0           1.9   \n",
       "147  148            6.5           3.0            5.2           2.0   \n",
       "148  149            6.2           3.4            5.4           2.3   \n",
       "149  150            5.9           3.0            5.1           1.8   \n",
       "\n",
       "            Species  \n",
       "0       Iris-setosa  \n",
       "1       Iris-setosa  \n",
       "2       Iris-setosa  \n",
       "3       Iris-setosa  \n",
       "4       Iris-setosa  \n",
       "..              ...  \n",
       "145  Iris-virginica  \n",
       "146  Iris-virginica  \n",
       "147  Iris-virginica  \n",
       "148  Iris-virginica  \n",
       "149  Iris-virginica  \n",
       "\n",
       "[150 rows x 6 columns]"
      ]
     },
     "execution_count": 2,
     "metadata": {},
     "output_type": "execute_result"
    }
   ],
   "source": [
    "data = pd.read_csv('./input/Iris.csv')\n",
    "speciesTypes = data['Species'].unique()\n",
    "data"
   ]
  },
  {
   "cell_type": "code",
   "execution_count": 3,
   "id": "a38630a7",
   "metadata": {},
   "outputs": [
    {
     "name": "stdout",
     "output_type": "stream",
     "text": [
      "<class 'pandas.core.frame.DataFrame'>\n",
      "RangeIndex: 150 entries, 0 to 149\n",
      "Data columns (total 6 columns):\n",
      " #   Column         Non-Null Count  Dtype  \n",
      "---  ------         --------------  -----  \n",
      " 0   Id             150 non-null    int64  \n",
      " 1   SepalLengthCm  150 non-null    float64\n",
      " 2   SepalWidthCm   150 non-null    float64\n",
      " 3   PetalLengthCm  150 non-null    float64\n",
      " 4   PetalWidthCm   150 non-null    float64\n",
      " 5   Species        150 non-null    object \n",
      "dtypes: float64(4), int64(1), object(1)\n",
      "memory usage: 7.2+ KB\n"
     ]
    }
   ],
   "source": [
    "data.info()"
   ]
  },
  {
   "cell_type": "code",
   "execution_count": 4,
   "id": "f3457cfc",
   "metadata": {},
   "outputs": [
    {
     "data": {
      "text/html": [
       "<div>\n",
       "<style scoped>\n",
       "    .dataframe tbody tr th:only-of-type {\n",
       "        vertical-align: middle;\n",
       "    }\n",
       "\n",
       "    .dataframe tbody tr th {\n",
       "        vertical-align: top;\n",
       "    }\n",
       "\n",
       "    .dataframe thead th {\n",
       "        text-align: right;\n",
       "    }\n",
       "</style>\n",
       "<table border=\"1\" class=\"dataframe\">\n",
       "  <thead>\n",
       "    <tr style=\"text-align: right;\">\n",
       "      <th></th>\n",
       "      <th>Id</th>\n",
       "      <th>SepalLengthCm</th>\n",
       "      <th>SepalWidthCm</th>\n",
       "      <th>PetalLengthCm</th>\n",
       "      <th>PetalWidthCm</th>\n",
       "    </tr>\n",
       "  </thead>\n",
       "  <tbody>\n",
       "    <tr>\n",
       "      <th>count</th>\n",
       "      <td>150.000000</td>\n",
       "      <td>150.000000</td>\n",
       "      <td>150.000000</td>\n",
       "      <td>150.000000</td>\n",
       "      <td>150.000000</td>\n",
       "    </tr>\n",
       "    <tr>\n",
       "      <th>mean</th>\n",
       "      <td>75.500000</td>\n",
       "      <td>5.843333</td>\n",
       "      <td>3.054000</td>\n",
       "      <td>3.758667</td>\n",
       "      <td>1.198667</td>\n",
       "    </tr>\n",
       "    <tr>\n",
       "      <th>std</th>\n",
       "      <td>43.445368</td>\n",
       "      <td>0.828066</td>\n",
       "      <td>0.433594</td>\n",
       "      <td>1.764420</td>\n",
       "      <td>0.763161</td>\n",
       "    </tr>\n",
       "    <tr>\n",
       "      <th>min</th>\n",
       "      <td>1.000000</td>\n",
       "      <td>4.300000</td>\n",
       "      <td>2.000000</td>\n",
       "      <td>1.000000</td>\n",
       "      <td>0.100000</td>\n",
       "    </tr>\n",
       "    <tr>\n",
       "      <th>25%</th>\n",
       "      <td>38.250000</td>\n",
       "      <td>5.100000</td>\n",
       "      <td>2.800000</td>\n",
       "      <td>1.600000</td>\n",
       "      <td>0.300000</td>\n",
       "    </tr>\n",
       "    <tr>\n",
       "      <th>50%</th>\n",
       "      <td>75.500000</td>\n",
       "      <td>5.800000</td>\n",
       "      <td>3.000000</td>\n",
       "      <td>4.350000</td>\n",
       "      <td>1.300000</td>\n",
       "    </tr>\n",
       "    <tr>\n",
       "      <th>75%</th>\n",
       "      <td>112.750000</td>\n",
       "      <td>6.400000</td>\n",
       "      <td>3.300000</td>\n",
       "      <td>5.100000</td>\n",
       "      <td>1.800000</td>\n",
       "    </tr>\n",
       "    <tr>\n",
       "      <th>max</th>\n",
       "      <td>150.000000</td>\n",
       "      <td>7.900000</td>\n",
       "      <td>4.400000</td>\n",
       "      <td>6.900000</td>\n",
       "      <td>2.500000</td>\n",
       "    </tr>\n",
       "  </tbody>\n",
       "</table>\n",
       "</div>"
      ],
      "text/plain": [
       "               Id  SepalLengthCm  SepalWidthCm  PetalLengthCm  PetalWidthCm\n",
       "count  150.000000     150.000000    150.000000     150.000000    150.000000\n",
       "mean    75.500000       5.843333      3.054000       3.758667      1.198667\n",
       "std     43.445368       0.828066      0.433594       1.764420      0.763161\n",
       "min      1.000000       4.300000      2.000000       1.000000      0.100000\n",
       "25%     38.250000       5.100000      2.800000       1.600000      0.300000\n",
       "50%     75.500000       5.800000      3.000000       4.350000      1.300000\n",
       "75%    112.750000       6.400000      3.300000       5.100000      1.800000\n",
       "max    150.000000       7.900000      4.400000       6.900000      2.500000"
      ]
     },
     "execution_count": 4,
     "metadata": {},
     "output_type": "execute_result"
    }
   ],
   "source": [
    "data.describe()"
   ]
  },
  {
   "cell_type": "markdown",
   "id": "e41e3f7b",
   "metadata": {},
   "source": [
    "## Блок с предварительной обработкой датасета"
   ]
  },
  {
   "cell_type": "code",
   "execution_count": 5,
   "id": "dfcec1cc",
   "metadata": {},
   "outputs": [],
   "source": [
    "data = data.drop('Id', axis = 1)\n",
    "species_mapping = {species: idx for idx, species in enumerate(data['Species'].unique())}\n",
    "data['Species'] = data['Species'].map(species_mapping)\n",
    "y = data[['Species']].copy()\n",
    "data = data.drop('Species', axis = 1)"
   ]
  },
  {
   "cell_type": "code",
   "execution_count": 6,
   "id": "b2948209",
   "metadata": {},
   "outputs": [
    {
     "data": {
      "text/plain": [
       "array([[-2.41765984e+00,  6.43568342e-01],\n",
       "       [-2.64342543e+00, -3.09828534e-01],\n",
       "       [-3.11929832e+00, -5.04877151e-01],\n",
       "       [ 2.04693216e+00,  1.02782039e-01],\n",
       "       [ 9.90682442e-01,  3.46169309e-01],\n",
       "       [-2.78935861e+00, -1.39660233e-01],\n",
       "       [ 4.53979085e-01, -4.83793602e-02],\n",
       "       [-2.55417672e+00,  3.19039573e-01],\n",
       "       [ 2.26030338e+00,  2.78842383e-01],\n",
       "       [-2.44487127e+00,  5.22779543e-01],\n",
       "       [ 1.90282240e+00, -1.61858790e-01],\n",
       "       [-2.49573832e+00,  2.27770763e-01],\n",
       "       [-2.30205512e+00,  1.36573110e+00],\n",
       "       [ 1.69485615e+00, -4.29066896e-01],\n",
       "       [ 2.89043966e-01, -8.02276184e-01],\n",
       "       [ 1.52203718e+00, -4.95694838e-01],\n",
       "       [-2.57533192e+00, -1.24911878e-01],\n",
       "       [ 4.00741494e-01, -3.07767352e-01],\n",
       "       [ 1.39183690e+00, -4.61140728e-02],\n",
       "       [ 1.08337802e+00, -8.33869849e-02],\n",
       "       [ 6.11412332e-01, -5.07816772e-02],\n",
       "       [ 1.55253499e+00,  5.25433371e-01],\n",
       "       [ 6.95329761e-01, -4.02639637e-01],\n",
       "       [ 1.42176605e+00,  2.49436144e-01],\n",
       "       [-2.74364443e+00, -9.62961031e-01],\n",
       "       [-2.68733774e+00, -2.47726517e-01],\n",
       "       [ 2.45014886e+00,  4.65720637e-02],\n",
       "       [ 1.01951733e+00, -1.56657162e-01],\n",
       "       [ 7.37944247e-01,  4.28661699e-02],\n",
       "       [ 1.01670860e+00,  4.84768502e-01],\n",
       "       [ 2.20034987e+00,  4.33226130e-01],\n",
       "       [ 3.00800741e+00,  8.85072183e-01],\n",
       "       [ 1.52203718e+00, -4.95694838e-01],\n",
       "       [ 1.13510051e+00,  2.39115945e-01],\n",
       "       [ 3.62885418e-01, -5.68827986e-01],\n",
       "       [ 2.00302406e+00,  2.35586958e-01],\n",
       "       [ 6.37837805e-01, -1.10006376e+00],\n",
       "       [ 1.18171319e+00,  9.60885955e-02],\n",
       "       [-2.61469889e+00, -2.52154673e-01],\n",
       "       [-2.20604256e+00,  1.11861087e-01],\n",
       "       [ 2.63512338e+00,  1.19654002e-01],\n",
       "       [ 1.45512893e+00, -6.98421889e-01],\n",
       "       [-3.11721454e+00,  1.57585904e-01],\n",
       "       [ 7.44660162e-01, -3.70905569e-01],\n",
       "       [-5.95793548e-01, -9.89646367e-01],\n",
       "       [-2.59049614e+00,  3.21253651e-01],\n",
       "       [-2.57533192e+00, -1.24911878e-01],\n",
       "       [ 2.24610713e+00,  2.62704631e-01],\n",
       "       [ 2.51640164e+00,  4.10611103e-01],\n",
       "       [ 2.71487659e-01, -6.46879517e-01],\n",
       "       [ 3.30803024e-01, -3.84264527e-01],\n",
       "       [-2.51417160e+00,  2.92836305e-02],\n",
       "       [-2.78145742e+00, -5.71242366e-01],\n",
       "       [ 3.56676294e-02, -6.88580586e-01],\n",
       "       [ 5.70308749e-01, -6.30105323e-01],\n",
       "       [ 3.02198217e+00,  3.86014147e-01],\n",
       "       [-2.53453663e+00,  8.26105961e-01],\n",
       "       [ 9.05362458e-01,  2.71344775e-01],\n",
       "       [-2.51272596e+00,  1.10874542e+00],\n",
       "       [ 2.41165885e+00,  2.73213068e-01],\n",
       "       [ 1.21869230e+00,  3.26542947e-03],\n",
       "       [ 9.11397149e-01, -3.78207526e-01],\n",
       "       [-2.53054264e+00,  1.66869904e-01],\n",
       "       [ 2.92992472e+00,  3.98571704e-01],\n",
       "       [ 2.01504972e+00,  4.76151637e-01],\n",
       "       [-2.87621524e+00, -4.77759478e-01],\n",
       "       [-2.06538474e-01, -3.61814459e-01],\n",
       "       [-2.73818325e+00, -2.16345647e-01],\n",
       "       [-3.97499754e-01, -1.25431048e+00],\n",
       "       [-2.19061796e+00,  7.62967744e-01],\n",
       "       [ 1.27105292e+00, -9.12303780e-02],\n",
       "       [-2.67496070e+00,  2.73923267e-01],\n",
       "       [-2.30806343e+00,  2.19927370e-01],\n",
       "       [ 1.35821786e+00, -1.24825326e-01],\n",
       "       [ 2.26094152e+00, -1.38156354e-01],\n",
       "       [ 3.16205906e+00,  7.27814636e-01],\n",
       "       [-2.55870051e+00,  8.34774035e-01],\n",
       "       [ 1.39637803e+00, -3.06161787e-01],\n",
       "       [ 2.41837056e+00, -2.11261572e-01],\n",
       "       [ 1.40427921e+00, -7.37743920e-01],\n",
       "       [-2.71942014e+00, -6.31630580e-02],\n",
       "       [ 1.49418761e+00, -1.99484900e-01],\n",
       "       [ 2.52214957e+00,  4.59142644e-01],\n",
       "       [ 1.04398950e+00, -5.37019429e-01],\n",
       "       [-2.37192412e+00,  1.46657193e-01],\n",
       "       [-8.66314620e-02, -6.70581953e-01],\n",
       "       [-2.60774415e+00,  1.04956125e-01],\n",
       "       [ 1.48777999e+00, -1.57407354e-01],\n",
       "       [-2.53725855e+00,  5.80641643e-01],\n",
       "       [-2.21936605e+00,  3.78904233e-01],\n",
       "       [-2.11374629e+00,  8.70186067e-01],\n",
       "       [ 2.36045204e-01, -2.90781640e-01],\n",
       "       [ 3.48380873e-01, -2.13271545e-01],\n",
       "       [-2.49453151e+00,  5.36350019e-01],\n",
       "       [ 2.07208135e+00, -1.12502567e-01],\n",
       "       [ 9.12933801e-01, -1.14932814e-01],\n",
       "       [ 8.07552875e-01,  1.64667889e-01],\n",
       "       [ 2.65930459e+00,  3.66672676e-01],\n",
       "       [ 2.47586251e+00,  4.86162549e-01],\n",
       "       [ 3.57139241e+00,  1.25690806e+00],\n",
       "       [-2.25623260e+00, -1.80700323e-02],\n",
       "       [ 3.35365689e-01, -3.17922592e-01],\n",
       "       [-2.40945036e+00, -1.59707984e-01],\n",
       "       [ 4.32845430e-01, -1.65941161e-01],\n",
       "       [-2.44943393e+00,  4.56437607e-01],\n",
       "       [-2.48783714e+00, -2.03811370e-01],\n",
       "       [ 1.30801049e+00, -5.10443193e-01],\n",
       "       [ 1.48268753e+00, -3.67250885e-01],\n",
       "       [ 2.37112394e+00,  4.19467415e-01],\n",
       "       [ 3.48451423e+00,  5.92419162e-01],\n",
       "       [-2.61621400e+00, -1.89039735e-01],\n",
       "       [-2.31868653e+00,  4.06045185e-01],\n",
       "       [ 9.88620204e-01,  1.00959029e-02],\n",
       "       [-7.27393085e-02, -2.12047107e-01],\n",
       "       [ 1.88352949e+00, -4.58542974e-01],\n",
       "       [-2.57533192e+00, -1.24911878e-01],\n",
       "       [ 2.00334969e+00,  1.19579513e-01],\n",
       "       [-2.11429342e+00,  4.70997723e-01],\n",
       "       [-8.00165117e-01, -7.28209256e-01],\n",
       "       [ 1.54200290e+00, -1.04635895e-01]])"
      ]
     },
     "execution_count": 6,
     "metadata": {},
     "output_type": "execute_result"
    }
   ],
   "source": [
    "X_train, X_test, y_train, y_test = train_test_split(data, y.values.ravel(), test_size=0.2, random_state=36)\n",
    "# Применяем метод главных компонент (PCA) для уменьшения размерности данных\n",
    "pca = PCA(n_components=2)  # Указываем количество главных компонент (2 для примера)\n",
    "X_train_pca = pca.fit_transform(X_train)\n",
    "X_test_pca = pca.transform(X_test)\n",
    "X_train_pca"
   ]
  },
  {
   "cell_type": "code",
   "execution_count": 7,
   "id": "61fdb0d8",
   "metadata": {},
   "outputs": [
    {
     "data": {
      "text/html": [
       "<div>\n",
       "<style scoped>\n",
       "    .dataframe tbody tr th:only-of-type {\n",
       "        vertical-align: middle;\n",
       "    }\n",
       "\n",
       "    .dataframe tbody tr th {\n",
       "        vertical-align: top;\n",
       "    }\n",
       "\n",
       "    .dataframe thead th {\n",
       "        text-align: right;\n",
       "    }\n",
       "</style>\n",
       "<table border=\"1\" class=\"dataframe\">\n",
       "  <thead>\n",
       "    <tr style=\"text-align: right;\">\n",
       "      <th></th>\n",
       "      <th>Species</th>\n",
       "    </tr>\n",
       "  </thead>\n",
       "  <tbody>\n",
       "    <tr>\n",
       "      <th>0</th>\n",
       "      <td>0</td>\n",
       "    </tr>\n",
       "    <tr>\n",
       "      <th>1</th>\n",
       "      <td>0</td>\n",
       "    </tr>\n",
       "    <tr>\n",
       "      <th>2</th>\n",
       "      <td>0</td>\n",
       "    </tr>\n",
       "    <tr>\n",
       "      <th>3</th>\n",
       "      <td>0</td>\n",
       "    </tr>\n",
       "    <tr>\n",
       "      <th>4</th>\n",
       "      <td>0</td>\n",
       "    </tr>\n",
       "    <tr>\n",
       "      <th>...</th>\n",
       "      <td>...</td>\n",
       "    </tr>\n",
       "    <tr>\n",
       "      <th>145</th>\n",
       "      <td>2</td>\n",
       "    </tr>\n",
       "    <tr>\n",
       "      <th>146</th>\n",
       "      <td>2</td>\n",
       "    </tr>\n",
       "    <tr>\n",
       "      <th>147</th>\n",
       "      <td>2</td>\n",
       "    </tr>\n",
       "    <tr>\n",
       "      <th>148</th>\n",
       "      <td>2</td>\n",
       "    </tr>\n",
       "    <tr>\n",
       "      <th>149</th>\n",
       "      <td>2</td>\n",
       "    </tr>\n",
       "  </tbody>\n",
       "</table>\n",
       "<p>150 rows × 1 columns</p>\n",
       "</div>"
      ],
      "text/plain": [
       "     Species\n",
       "0          0\n",
       "1          0\n",
       "2          0\n",
       "3          0\n",
       "4          0\n",
       "..       ...\n",
       "145        2\n",
       "146        2\n",
       "147        2\n",
       "148        2\n",
       "149        2\n",
       "\n",
       "[150 rows x 1 columns]"
      ]
     },
     "execution_count": 7,
     "metadata": {},
     "output_type": "execute_result"
    }
   ],
   "source": [
    "y"
   ]
  },
  {
   "cell_type": "markdown",
   "id": "ec844c2f",
   "metadata": {},
   "source": [
    "## Блок с тепловой картой"
   ]
  },
  {
   "cell_type": "code",
   "execution_count": 8,
   "id": "7da2b2aa",
   "metadata": {},
   "outputs": [
    {
     "data": {
      "image/png": "[encoded data removed]",
      "text/plain": [
       "<Figure size 800x600 with 2 Axes>"
      ]
     },
     "metadata": {},
     "output_type": "display_data"
    }
   ],
   "source": [
    "corr = data.corr()\n",
    "\n",
    "# Создание тепловой карты\n",
    "plt.figure(figsize=(8, 6))\n",
    "sns.heatmap(corr, annot=True, cmap='coolwarm', fmt=\".2f\")\n",
    "plt.title('Тепловая карта корреляции данных по ирисам')\n",
    "plt.show()"
   ]
  },
  {
   "cell_type": "markdown",
   "id": "60d06549",
   "metadata": {},
   "source": [
    "## Блок с обучением модели"
   ]
  },
  {
   "cell_type": "code",
   "execution_count": 9,
   "id": "704584e9",
   "metadata": {},
   "outputs": [
    {
     "data": {
      "text/html": [
       "<style>#sk-container-id-1 {color: black;}#sk-container-id-1 pre{padding: 0;}#sk-container-id-1 div.sk-toggleable {background-color: white;}#sk-container-id-1 label.sk-toggleable__label {cursor: pointer;display: block;width: 100%;margin-bottom: 0;padding: 0.3em;box-sizing: border-box;text-align: center;}#sk-container-id-1 label.sk-toggleable__label-arrow:before {content: \"▸\";float: left;margin-right: 0.25em;color: #696969;}#sk-container-id-1 label.sk-toggleable__label-arrow:hover:before {color: black;}#sk-container-id-1 div.sk-estimator:hover label.sk-toggleable__label-arrow:before {color: black;}#sk-container-id-1 div.sk-toggleable__content {max-height: 0;max-width: 0;overflow: hidden;text-align: left;background-color: #f0f8ff;}#sk-container-id-1 div.sk-toggleable__content pre {margin: 0.2em;color: black;border-radius: 0.25em;background-color: #f0f8ff;}#sk-container-id-1 input.sk-toggleable__control:checked~div.sk-toggleable__content {max-height: 200px;max-width: 100%;overflow: auto;}#sk-container-id-1 input.sk-toggleable__control:checked~label.sk-toggleable__label-arrow:before {content: \"▾\";}#sk-container-id-1 div.sk-estimator input.sk-toggleable__control:checked~label.sk-toggleable__label {background-color: #d4ebff;}#sk-container-id-1 div.sk-label input.sk-toggleable__control:checked~label.sk-toggleable__label {background-color: #d4ebff;}#sk-container-id-1 input.sk-hidden--visually {border: 0;clip: rect(1px 1px 1px 1px);clip: rect(1px, 1px, 1px, 1px);height: 1px;margin: -1px;overflow: hidden;padding: 0;position: absolute;width: 1px;}#sk-container-id-1 div.sk-estimator {font-family: monospace;background-color: #f0f8ff;border: 1px dotted black;border-radius: 0.25em;box-sizing: border-box;margin-bottom: 0.5em;}#sk-container-id-1 div.sk-estimator:hover {background-color: #d4ebff;}#sk-container-id-1 div.sk-parallel-item::after {content: \"\";width: 100%;border-bottom: 1px solid gray;flex-grow: 1;}#sk-container-id-1 div.sk-label:hover label.sk-toggleable__label {background-color: #d4ebff;}#sk-container-id-1 div.sk-serial::before {content: \"\";position: absolute;border-left: 1px solid gray;box-sizing: border-box;top: 0;bottom: 0;left: 50%;z-index: 0;}#sk-container-id-1 div.sk-serial {display: flex;flex-direction: column;align-items: center;background-color: white;padding-right: 0.2em;padding-left: 0.2em;position: relative;}#sk-container-id-1 div.sk-item {position: relative;z-index: 1;}#sk-container-id-1 div.sk-parallel {display: flex;align-items: stretch;justify-content: center;background-color: white;position: relative;}#sk-container-id-1 div.sk-item::before, #sk-container-id-1 div.sk-parallel-item::before {content: \"\";position: absolute;border-left: 1px solid gray;box-sizing: border-box;top: 0;bottom: 0;left: 50%;z-index: -1;}#sk-container-id-1 div.sk-parallel-item {display: flex;flex-direction: column;z-index: 1;position: relative;background-color: white;}#sk-container-id-1 div.sk-parallel-item:first-child::after {align-self: flex-end;width: 50%;}#sk-container-id-1 div.sk-parallel-item:last-child::after {align-self: flex-start;width: 50%;}#sk-container-id-1 div.sk-parallel-item:only-child::after {width: 0;}#sk-container-id-1 div.sk-dashed-wrapped {border: 1px dashed gray;margin: 0 0.4em 0.5em 0.4em;box-sizing: border-box;padding-bottom: 0.4em;background-color: white;}#sk-container-id-1 div.sk-label label {font-family: monospace;font-weight: bold;display: inline-block;line-height: 1.2em;}#sk-container-id-1 div.sk-label-container {text-align: center;}#sk-container-id-1 div.sk-container {/* jupyter's `normalize.less` sets `[hidden] { display: none; }` but bootstrap.min.css set `[hidden] { display: none !important; }` so we also need the `!important` here to be able to override the default hidden behavior on the sphinx rendered scikit-learn.org. See: https://github.com/scikit-learn/scikit-learn/issues/21755 */display: inline-block !important;position: relative;}#sk-container-id-1 div.sk-text-repr-fallback {display: none;}</style><div id=\"sk-container-id-1\" class=\"sk-top-container\"><div class=\"sk-text-repr-fallback\"><pre>RandomForestClassifier(random_state=54)</pre><b>In a Jupyter environment, please rerun this cell to show the HTML representation or trust the notebook. <br />On GitHub, the HTML representation is unable to render, please try loading this page with nbviewer.org.</b></div><div class=\"sk-container\" hidden><div class=\"sk-item\"><div class=\"sk-estimator sk-toggleable\"><input class=\"sk-toggleable__control sk-hidden--visually\" id=\"sk-estimator-id-1\" type=\"checkbox\" checked><label for=\"sk-estimator-id-1\" class=\"sk-toggleable__label sk-toggleable__label-arrow\">RandomForestClassifier</label><div class=\"sk-toggleable__content\"><pre>RandomForestClassifier(random_state=54)</pre></div></div></div></div></div>"
      ],
      "text/plain": [
       "RandomForestClassifier(random_state=54)"
      ]
     },
     "execution_count": 9,
     "metadata": {},
     "output_type": "execute_result"
    }
   ],
   "source": [
    "# Создаем классификатор случайного леса\n",
    "clf = RandomForestClassifier(n_estimators=100, random_state=54)\n",
    "\n",
    "# Обучаем модель на обучающем наборе с использованием данных после применения PCA\n",
    "clf.fit(X_train_pca, y_train)"
   ]
  },
  {
   "cell_type": "markdown",
   "id": "cbff6c30",
   "metadata": {},
   "source": [
    "## Блок с прогнозами модели"
   ]
  },
  {
   "cell_type": "code",
   "execution_count": 10,
   "id": "63c5f50d",
   "metadata": {},
   "outputs": [
    {
     "name": "stdout",
     "output_type": "stream",
     "text": [
      "Точность: 0.9\n",
      "Precision: 0.9111111111111111\n",
      "Recall: 0.9090909090909092\n",
      "F1 Score: 0.9089026915113871\n",
      "AUC-ROC: 0.5\n"
     ]
    },
    {
     "name": "stderr",
     "output_type": "stream",
     "text": [
      "C:\\Users\\nikit\\anaconda3\\Lib\\site-packages\\sklearn\\base.py:457: UserWarning: X has feature names, but RandomForestClassifier was fitted without feature names\n",
      "  warnings.warn(\n"
     ]
    }
   ],
   "source": [
    "# Предсказываем значения для тестовых данных\n",
    "y_pred = clf.predict(X_test_pca)\n",
    "\n",
    "# Оцениваем точность модели\n",
    "accuracy = accuracy_score(y_test, y_pred)\n",
    "print(f\"Точность: {accuracy}\")\n",
    "precision = precision_score(y_test, y_pred, average='macro')\n",
    "print(f\"Precision:\", precision)\n",
    "recall = recall_score(y_test, y_pred, average='macro')\n",
    "print(f\"Recall:\", recall)\n",
    "f1 = f1_score(y_test, y_pred, average='macro')\n",
    "print(f'F1 Score: {f1}')\n",
    "auc_roc = roc_auc_score(y_test, clf.predict_proba(X_test.iloc[:, [0, 1]]), multi_class='ovr')\n",
    "print(f'AUC-ROC: {auc_roc}')"
   ]
  },
  {
   "cell_type": "code",
   "execution_count": 11,
   "id": "ccb60d0d",
   "metadata": {},
   "outputs": [
    {
     "data": {
      "text/plain": [
       "array([2, 2, 1, 2, 2, 1, 1, 1, 1, 1, 1, 0, 2, 1, 0, 0, 0, 2, 0, 1, 0, 2,\n",
       "       2, 0, 2, 2, 0, 2, 1, 2], dtype=int64)"
      ]
     },
     "execution_count": 11,
     "metadata": {},
     "output_type": "execute_result"
    }
   ],
   "source": [
    "y_pred"
   ]
  },
  {
   "cell_type": "code",
   "execution_count": 12,
   "id": "4dd2dddd",
   "metadata": {},
   "outputs": [
    {
     "data": {
      "text/plain": [
       "array([1, 2, 1, 2, 2, 1, 1, 1, 1, 1, 1, 0, 2, 1, 0, 0, 0, 1, 0, 2, 0, 2,\n",
       "       2, 0, 2, 2, 0, 2, 1, 2], dtype=int64)"
      ]
     },
     "execution_count": 12,
     "metadata": {},
     "output_type": "execute_result"
    }
   ],
   "source": [
    "y_test"
   ]
  },
  {
   "cell_type": "markdown",
   "id": "9f89b2e8",
   "metadata": {},
   "source": [
    "## Блок с графиками выходных результатов"
   ]
  },
  {
   "cell_type": "code",
   "execution_count": 13,
   "id": "d36af1f8",
   "metadata": {},
   "outputs": [
    {
     "data": {
      "image/png": "[encoded data removed]",
      "text/plain": [
       "<Figure size 640x480 with 1 Axes>"
      ]
     },
     "metadata": {},
     "output_type": "display_data"
    }
   ],
   "source": [
    "plt.figure()\n",
    "plt.plot(y_test, label='Реальные значения', marker='o')\n",
    "plt.plot(y_pred, label='Предсказанные значения', marker='x')\n",
    "plt.xlabel('Номер образца')\n",
    "plt.ylabel('Значение')\n",
    "plt.title('Сравнение реальных и предсказанных значений')\n",
    "plt.legend()\n",
    "plt.show()"
   ]
  },
  {
   "cell_type": "markdown",
   "id": "37db0006",
   "metadata": {},
   "source": [
    "Результаты с применением PCA можно сравнить с 3-ей лабораторной у меня в репозитории.\\\n",
    "Оценки модели без применения PCA:\\\n",
    "Точность: 0.6666666666666666\\\n",
    "Precision: 0.6969696969696969\\\n",
    "Recall: 0.6969696969696969\\\n",
    "F1 Score: 0.6969696969696969\\\n",
    "AUC-ROC: 0.8851674641148325"
   ]
  }
 ],
 "metadata": {
  "kernelspec": {
   "display_name": "Python 3 (ipykernel)",
   "language": "python",
   "name": "python3"
  },
  "language_info": {
   "codemirror_mode": {
    "name": "ipython",
    "version": 3
   },
   "file_extension": ".py",
   "mimetype": "text/x-python",
   "name": "python",
   "nbconvert_exporter": "python",
   "pygments_lexer": "ipython3",
   "version": "3.11.5"
  }
 },
 "nbformat": 4,
 "nbformat_minor": 5
}
